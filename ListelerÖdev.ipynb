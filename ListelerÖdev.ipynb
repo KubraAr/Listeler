{
 "cells": [
  {
   "cell_type": "code",
   "execution_count": 5,
   "id": "4385f209-6852-4b74-9f6b-6896ae9d392d",
   "metadata": {},
   "outputs": [
    {
     "name": "stdout",
     "output_type": "stream",
     "text": [
      "['elma', 'muz', 'çilek', 'kiraz', 'portakal']\n"
     ]
    }
   ],
   "source": [
    "#1 Liste sonuna portakal ekleme\n",
    "meyveler = [\"elma\", \"muz\", \"çilek\", \"kiraz\"]\n",
    "meyveler.append(\"portakal\")\n",
    "print(meyveler)"
   ]
  },
  {
   "cell_type": "code",
   "execution_count": 7,
   "id": "bd33e1b4-bf7c-475b-bbf1-9df563f14405",
   "metadata": {},
   "outputs": [
    {
     "name": "stdout",
     "output_type": "stream",
     "text": [
      "['elma', 'muz', 'armut', 'kiraz']\n"
     ]
    }
   ],
   "source": [
    "#Listenin 2. İndeksine armut ekle\n",
    "meyveler = [\"elma\", \"muz\", \"çilek\", \"kiraz\"]\n",
    "meyveler[2] = \"armut\"\n",
    "print(meyveler)"
   ]
  },
  {
   "cell_type": "code",
   "execution_count": 9,
   "id": "87b56c40-2953-4818-9989-b435dd21679a",
   "metadata": {},
   "outputs": [
    {
     "name": "stdout",
     "output_type": "stream",
     "text": [
      "['elma', 'çilek', 'kiraz']\n"
     ]
    }
   ],
   "source": [
    "#Muz ögesini listeden kaldır\n",
    "meyveler = [\"elma\", \"muz\", \"çilek\", \"kiraz\"]\n",
    "meyveler.remove(\"muz\")\n",
    "print(meyveler)"
   ]
  },
  {
   "cell_type": "code",
   "execution_count": 11,
   "id": "a6b27041-5c0d-4755-ab20-c7f8bc9797ac",
   "metadata": {},
   "outputs": [
    {
     "name": "stdout",
     "output_type": "stream",
     "text": [
      "4\n"
     ]
    }
   ],
   "source": [
    "#Listenin uzunluğunu ekrana yazma\n",
    "meyveler = [\"elma\", \"muz\", \"çilek\", \"kiraz\"]\n",
    "print(len(meyveler))"
   ]
  },
  {
   "cell_type": "code",
   "execution_count": 13,
   "id": "24eae43c-d59d-4e98-afe3-b6fd164fe494",
   "metadata": {},
   "outputs": [
    {
     "name": "stdout",
     "output_type": "stream",
     "text": [
      "En büyük sayı: 31\n",
      "En küçük sayı: 5\n"
     ]
    }
   ],
   "source": [
    "#2 Maksimum ve minimum değer bulma\n",
    "sayilar = [15,8,22,31,5,10]\n",
    "\n",
    "en_buyuk = sayilar[0]\n",
    "en_kucuk = sayilar[0]\n",
    "\n",
    "for sayi in sayilar:\n",
    "    if sayi>en_buyuk:\n",
    "        en_buyuk = sayi\n",
    "    if sayi<en_kucuk:\n",
    "        en_kucuk = sayi\n",
    "\n",
    "print(\"En büyük sayı:\",en_buyuk)\n",
    "print(\"En küçük sayı:\",en_kucuk)"
   ]
  },
  {
   "cell_type": "code",
   "execution_count": 15,
   "id": "44509b76-6133-4526-90cd-b0124ad7c7d3",
   "metadata": {},
   "outputs": [
    {
     "name": "stdout",
     "output_type": "stream",
     "text": [
      "En büyük sayı: 31\n",
      "En küçük sayı: 5\n"
     ]
    }
   ],
   "source": [
    "# Maksimum minimum değeri bulmak için 2. yöntem\n",
    "sayilar = [15,8,22,31,5,10]\n",
    "en_buyuk = max(sayilar)\n",
    "en_kucuk = min(sayilar)\n",
    "\n",
    "print(\"En büyük sayı:\", en_buyuk)\n",
    "print(\"En küçük sayı:\", en_kucuk)"
   ]
  },
  {
   "cell_type": "code",
   "execution_count": 19,
   "id": "73f7cf1b-f173-4bd9-8333-c70142b91843",
   "metadata": {},
   "outputs": [
    {
     "name": "stdout",
     "output_type": "stream",
     "text": [
      "[10, 20, 30, 40, 50]\n"
     ]
    }
   ],
   "source": [
    "sayilar2 = [10,20,30,40,50,60,70,80,90,100]\n",
    "# İlk 5 elemanı içeren yeni liste\n",
    "ilkBes = sayilar2[:5]\n",
    "print(ilkBes)"
   ]
  },
  {
   "cell_type": "code",
   "execution_count": 21,
   "id": "14653758-8b5f-4bdf-bdbf-67c271d03728",
   "metadata": {},
   "outputs": [
    {
     "name": "stdout",
     "output_type": "stream",
     "text": [
      "[80, 90, 100]\n"
     ]
    }
   ],
   "source": [
    "sayilar2 = [10,20,30,40,50,60,70,80,90,100]\n",
    "# Son 3 elemanı içeren yeni liste\n",
    "sonUc = sayilar2[-3:]\n",
    "print(sonUc)"
   ]
  },
  {
   "cell_type": "code",
   "execution_count": 23,
   "id": "fbd6b2ee-ed51-41b9-8555-e7f7ed4358b6",
   "metadata": {},
   "outputs": [
    {
     "name": "stdout",
     "output_type": "stream",
     "text": [
      "[40, 50, 60, 70, 80]\n"
     ]
    }
   ],
   "source": [
    "sayilar2 = [10,20,30,40,50,60,70,80,90,100]\n",
    "# 3. ve 7. İndeksler arasındaki elemanları içeren yeni liste\n",
    "indeks = sayilar2[3:8]\n",
    "print(indeks)"
   ]
  },
  {
   "cell_type": "code",
   "execution_count": 27,
   "id": "e5ffb05c-896c-49f2-9c5c-4aa0272eb013",
   "metadata": {},
   "outputs": [
    {
     "name": "stdout",
     "output_type": "stream",
     "text": [
      "0. ders:Matematik\n",
      "1. ders:Fizik\n",
      "2. ders:Kimya\n",
      "3. ders:Biyoloji\n"
     ]
    }
   ],
   "source": [
    "#4 eunmerate kullanımı\n",
    "dersler = [\"Matematik\",\"Fizik\",\"Kimya\",\"Biyoloji\"]\n",
    "for index, ders in enumerate(dersler):\n",
    "    print(f\"{index}. ders:{ders}\")"
   ]
  },
  {
   "cell_type": "code",
   "execution_count": 29,
   "id": "7c8f10a2-f021-4a72-9b95-97aa7571f322",
   "metadata": {},
   "outputs": [
    {
     "name": "stdout",
     "output_type": "stream",
     "text": [
      "A ve B kümelerinin birleşimi: {70, 40, 10, 50, 20, 60, 30}\n"
     ]
    }
   ],
   "source": [
    "#5 Küme işlemleri\n",
    "A = {10,20,30,40,50}\n",
    "B = {30,40,50,60,70}\n",
    "\n",
    "# A ve B kümelerinin birleşimlerini bulma\n",
    "birlesim = A.union(B)\n",
    "print(\"A ve B kümelerinin birleşimi:\", birlesim)"
   ]
  },
  {
   "cell_type": "code",
   "execution_count": 31,
   "id": "008c0316-6183-4299-862e-dd34179fbb14",
   "metadata": {},
   "outputs": [
    {
     "name": "stdout",
     "output_type": "stream",
     "text": [
      "A ve B kümelerinin kesişimi: {40, 50, 30}\n"
     ]
    }
   ],
   "source": [
    "A = {10,20,30,40,50}\n",
    "B = {30,40,50,60,70}\n",
    "\n",
    "# A ve B kümelerinin kesişimlerini bulma\n",
    "kesisim = A.intersection(B)\n",
    "print(\"A ve B kümelerinin kesişimi:\", kesisim)"
   ]
  },
  {
   "cell_type": "code",
   "execution_count": 33,
   "id": "9d982e9d-0ab4-4b28-ba62-350c59657fa4",
   "metadata": {},
   "outputs": [
    {
     "name": "stdout",
     "output_type": "stream",
     "text": [
      "A kümesinde olup B kümesinde olmayan elemanlar: {10, 20}\n"
     ]
    }
   ],
   "source": [
    "A = {10,20,30,40,50}\n",
    "B = {30,40,50,60,70}\n",
    "\n",
    "# A kümesinde olup B kümesinde olmayan elemanları bulma\n",
    "fark = A.difference(B)\n",
    "print(\"A kümesinde olup B kümesinde olmayan elemanlar:\", fark)"
   ]
  },
  {
   "cell_type": "code",
   "execution_count": 35,
   "id": "13b73892-4f3d-44e5-ac0a-0b5ecf24ca73",
   "metadata": {},
   "outputs": [
    {
     "name": "stdout",
     "output_type": "stream",
     "text": [
      "B kümesinde olup A kümesinde olmayan elemanlar: {60, 70}\n"
     ]
    }
   ],
   "source": [
    "A = {10,20,30,40,50}\n",
    "B = {30,40,50,60,70}\n",
    "\n",
    "# B kümesinde olup A kümesinde olmayan elemanları bulma\n",
    "fark2 = B.difference(A)\n",
    "print(\"B kümesinde olup A kümesinde olmayan elemanlar:\", fark2)"
   ]
  },
  {
   "cell_type": "code",
   "execution_count": 39,
   "id": "5b95477e-a620-44c1-94f7-85b6e22ea4a5",
   "metadata": {},
   "outputs": [
    {
     "name": "stdout",
     "output_type": "stream",
     "text": [
      "İlk üç eleman: (5, 10, 15)\n"
     ]
    }
   ],
   "source": [
    "# 6 Tuple işlemleri\n",
    "veriler = (5,10,15,20,25,30,35)\n",
    "\n",
    "# İlk 3 elemanını ekrana yazdır\n",
    "ilk_uc = veriler[:3]\n",
    "print(\"İlk üç eleman:\",ilk_uc)"
   ]
  },
  {
   "cell_type": "code",
   "execution_count": 41,
   "id": "0e5daecf-0a97-473f-89c5-9273b7338039",
   "metadata": {},
   "outputs": [
    {
     "name": "stdout",
     "output_type": "stream",
     "text": [
      "Son iki eleman: (30, 35)\n"
     ]
    }
   ],
   "source": [
    "# veriler Tuple'ının son iki elemanını ekrana yazdır\n",
    "son_iki = veriler[-2:]\n",
    "print(\"Son iki eleman:\",son_iki)\n"
   ]
  },
  {
   "cell_type": "code",
   "execution_count": 43,
   "id": "f476b5b5-b1ae-4826-ac57-21c863ed6811",
   "metadata": {},
   "outputs": [
    {
     "name": "stdout",
     "output_type": "stream",
     "text": [
      "Tuple'ın uzunluğu: 7\n"
     ]
    }
   ],
   "source": [
    "# veriler Tuple'ının uzunluğunu bulma\n",
    "uzunluk = len(veriler)\n",
    "print(\"Tuple'ın uzunluğu:\",uzunluk)"
   ]
  },
  {
   "cell_type": "code",
   "execution_count": 45,
   "id": "0d82b9e1-4d65-46c7-9cfd-a8732a03ed99",
   "metadata": {},
   "outputs": [
    {
     "name": "stdout",
     "output_type": "stream",
     "text": [
      "20 sayısı tuple içinde bulunuyor.\n"
     ]
    }
   ],
   "source": [
    "#20 saysının oluğ olmadığını kontrol etme\n",
    "if 20 in veriler:\n",
    "    print(\"20 sayısı tuple içinde bulunuyor.\")\n",
    "else:\n",
    "    print(\"20 sayısı tuple içinde bulunmuyor.\")"
   ]
  },
  {
   "cell_type": "code",
   "execution_count": 47,
   "id": "82912e52-071a-46aa-b2e8-ff23912fd76e",
   "metadata": {},
   "outputs": [
    {
     "name": "stdout",
     "output_type": "stream",
     "text": [
      "{'isim': 'Ahmet', 'yas': 21, 'bolum': 'Bilgisayar Mühendisliği'}\n"
     ]
    }
   ],
   "source": [
    "# 7 sözcük güncelleme ve erişim\n",
    "ogrenci = {\"isim\": \"Ahmet\",\"yas\": 20,\"bolum\": \"Bilgisayar Mühendisliği\"}\n",
    "\n",
    "#yas değerini 21 olarak güncelleme\n",
    "ogrenci[\"yas\"] = 21\n",
    "print(ogrenci)"
   ]
  },
  {
   "cell_type": "code",
   "execution_count": 49,
   "id": "8d760306-ca9a-4031-8287-dce7b99b1c5e",
   "metadata": {},
   "outputs": [
    {
     "name": "stdout",
     "output_type": "stream",
     "text": [
      "{'isim': 'Ahmet', 'yas': 21, 'bolum': 'Bilgisayar Mühendisliği', 'okul': 'İTÜ'}\n"
     ]
    }
   ],
   "source": [
    "#okul anahtarının İTÜ olarak ekleme\n",
    "ogrenci[\"okul\"] = \"İTÜ\"\n",
    "print(ogrenci)"
   ]
  },
  {
   "cell_type": "code",
   "execution_count": 51,
   "id": "cacd321d-49a6-437d-8a10-61570ded943a",
   "metadata": {},
   "outputs": [
    {
     "name": "stdout",
     "output_type": "stream",
     "text": [
      "Öğrencinin ismi: Ahmet\n"
     ]
    }
   ],
   "source": [
    "#isim anahtarına karşılık gelen değeri ekrana yazdırma\n",
    "isim = ogrenci[\"isim\"]\n",
    "print(\"Öğrencinin ismi:\", isim)"
   ]
  },
  {
   "cell_type": "code",
   "execution_count": 53,
   "id": "39081908-cf16-41b6-8d71-d50fd3a64bfa",
   "metadata": {},
   "outputs": [
    {
     "name": "stdout",
     "output_type": "stream",
     "text": [
      "Ali: 85\n",
      "Zeynep: 90\n",
      "Mehmet: 78\n",
      "Elif: 95\n"
     ]
    }
   ],
   "source": [
    "#8 Sözlük(Dictionary) Üzerinde döngü kullanımı\n",
    "ders_notlari = { \"Ali\": 85,\"Zeynep\": 90,\"Mehmet\": 78,\"Elif\": 95}\n",
    "\n",
    "for ogrenci, not1 in ders_notlari.items():\n",
    "    print(f\"{ogrenci}: {not1}\")"
   ]
  },
  {
   "cell_type": "code",
   "execution_count": 55,
   "id": "c3210930-f062-4302-8d47-4bb0ee1c8a53",
   "metadata": {},
   "outputs": [
    {
     "name": "stdout",
     "output_type": "stream",
     "text": [
      "['İstanbul', 'İzmir']\n"
     ]
    }
   ],
   "source": [
    "#9 Liste ve List Comprehension Kullanımı\n",
    "sehirler = [\"Ankara\",\"İstanbul\",\"İzmir\",\"Bursa\",\"Antalya\",\"Adana\",\"Trabzon\"]\n",
    "i_ile_baslayanlar = []\n",
    "for sehir in sehirler:\n",
    "    if \"İ\" in sehir:\n",
    "        i_ile_baslayanlar.append(sehir)\n",
    "\n",
    "print(i_ile_baslayanlar)"
   ]
  },
  {
   "cell_type": "code",
   "execution_count": 57,
   "id": "ce4d66f4-3d80-4759-875f-b3d5d024df76",
   "metadata": {},
   "outputs": [
    {
     "name": "stdout",
     "output_type": "stream",
     "text": [
      "['İstanbul', 'İzmir']\n"
     ]
    }
   ],
   "source": [
    "# List Comprehension Kullanarak Gerçekleştirme\n",
    "i_ile_baslayan_sehirler = [sehir for sehir in sehirler if \"İ\" in sehir]\n",
    "print(i_ile_baslayan_sehirler)"
   ]
  },
  {
   "cell_type": "code",
   "execution_count": 59,
   "id": "0c17b8e5-757b-49c2-9505-5186d564b4f5",
   "metadata": {},
   "outputs": [
    {
     "name": "stdout",
     "output_type": "stream",
     "text": [
      "[1, 2, 3, 4, 5, 6, 7, 8, 9, 10, 11, 12, 13, 14, 15, 16, 17, 18, 19, 20, 21, 22, 23, 24, 25, 26, 27, 28, 29, 30, 31, 32, 33, 34, 35, 36, 37, 38, 39, 40, 41, 42, 43, 44, 45, 46, 47, 48, 49, 50]\n"
     ]
    }
   ],
   "source": [
    "#10 List Comprehension Kullanımı\n",
    "# 1 ile 50 arasında sayıların olduğu liste\n",
    "sayilar = list(range(1, 51))\n",
    "print(sayilar)"
   ]
  },
  {
   "cell_type": "code",
   "execution_count": 61,
   "id": "4cd4302f-f7a4-4104-ae19-3cd0dde3c1d7",
   "metadata": {},
   "outputs": [
    {
     "name": "stdout",
     "output_type": "stream",
     "text": [
      "[5, 10, 15, 20, 25, 30, 35, 40, 45, 50]\n"
     ]
    }
   ],
   "source": [
    "#5'e bölünebilen elemanları içeren yeni liste (List Comprehension)\n",
    "bese_bolunenler = [sayi for sayi in sayilar if sayi % 5 == 0]\n",
    "print(bese_bolunenler)"
   ]
  }
 ],
 "metadata": {
  "kernelspec": {
   "display_name": "Python [conda env:base] *",
   "language": "python",
   "name": "conda-base-py"
  },
  "language_info": {
   "codemirror_mode": {
    "name": "ipython",
    "version": 3
   },
   "file_extension": ".py",
   "mimetype": "text/x-python",
   "name": "python",
   "nbconvert_exporter": "python",
   "pygments_lexer": "ipython3",
   "version": "3.12.7"
  }
 },
 "nbformat": 4,
 "nbformat_minor": 5
}
